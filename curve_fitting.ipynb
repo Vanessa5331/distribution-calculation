{
  "nbformat": 4,
  "nbformat_minor": 0,
  "metadata": {
    "colab": {
      "name": "Homework 9",
      "provenance": [],
      "include_colab_link": true
    },
    "kernelspec": {
      "name": "python3",
      "display_name": "Python 3"
    },
    "language_info": {
      "name": "python"
    }
  },
  "cells": [
    {
      "cell_type": "markdown",
      "metadata": {
        "id": "view-in-github",
        "colab_type": "text"
      },
      "source": [
        "<a href=\"https://colab.research.google.com/github/Vanessa5331/stats-calculation/blob/main/curve_fitting.ipynb\" target=\"_parent\"><img src=\"https://colab.research.google.com/assets/colab-badge.svg\" alt=\"Open In Colab\"/></a>"
      ]
    },
    {
      "cell_type": "code",
      "source": [
        "import numpy as np\n",
        "import pandas as pd\n",
        "import matplotlib.pyplot as plt\n",
        "import math, random"
      ],
      "metadata": {
        "id": "cWPT3oE5C72f"
      },
      "execution_count": 1,
      "outputs": []
    },
    {
      "cell_type": "markdown",
      "source": [
        "## Estimating g from the pendulum\n",
        "\n",
        "Perform curve fitting to find the g value and its uncertainty, using the fact that the relationship\n",
        "between the period T and the length L is: $$T = 2\\pi\\sqrt{\\frac{L}{g}}$$"
      ],
      "metadata": {
        "id": "OgLXSgdmCPHw"
      }
    },
    {
      "cell_type": "code",
      "source": [
        "lengths = np.array([\n",
        "  6, 6, 20, 21, 24, 25, 25, 25, 25.5, 25.5,\n",
        "  25.8, 25.9, 25.9, 25.9, 26, 28, 29, 29, 30, 30,\n",
        "  30, 30, 30, 30, 30, 35, 40, 40, 40, 40,\n",
        "  40, 41, 51, 61, 71, 81, 91, 101, 110, 400,\n",
        "  400, 400, 400\n",
        "]) # cm\n",
        "periods = np.array([\n",
        "  0.35, 0.492, 0.887, 0.952, 1.018, 0.903, 1.047, 1.05, 0.984, 0.966,\n",
        "  0.975, 0.991, 1, 0.958, 1.016, 1.047, 1.091, 1.166, 1.066, 1.05,\n",
        "  1.069, 0.959, 1.091, 1.113, 1.034, 1.131, 1.157, 1.272, 1.185, 1.263,\n",
        "  1.27, 1.272, 1.319, 1.488, 1.628, 1.819, 1.875, 1.988, 2.075, 4.033,\n",
        "  4.009, 3.994, 3.988\n",
        "]) # seconds\n",
        "sd_periods = np.array([\n",
        "  0.02, 0.02, 0.02, 0.02, 0.02, 0.02, 0.02, 0.02, 0.02, 0.02,\n",
        "  0.02, 0.02, 0.02, 0.02, 0.02, 0.02, 0.02, 0.02, 0.02, 0.02,\n",
        "  0.02, 0.02, 0.02, 0.02, 0.02, 0.02, 0.02, 0.02, 0.02, 0.02,\n",
        "  0.02, 0.02, 0.02, 0.02, 0.02, 0.02, 0.02, 0.02, 0.02, 0.02,\n",
        "  0.02, 0.02, 0.02\n",
        "]) # uncertainty in period (seconds)"
      ],
      "metadata": {
        "id": "mngh0ukpGqy0"
      },
      "execution_count": 2,
      "outputs": []
    },
    {
      "cell_type": "code",
      "source": [
        "plt.scatter(lengths, periods, color='salmon')"
      ],
      "metadata": {
        "colab": {
          "base_uri": "https://localhost:8080/",
          "height": 282
        },
        "id": "NFUlWLUDNjK8",
        "outputId": "fd0c657e-4c4b-475c-c147-d9d055a50b8d"
      },
      "execution_count": 3,
      "outputs": [
        {
          "output_type": "execute_result",
          "data": {
            "text/plain": [
              "<matplotlib.collections.PathCollection at 0x7f4809ce2390>"
            ]
          },
          "metadata": {},
          "execution_count": 3
        },
        {
          "output_type": "display_data",
          "data": {
            "text/plain": [
              "<Figure size 432x288 with 1 Axes>"
            ],
            "image/png": "[encoded data removed]"
          },
          "metadata": {
            "needs_background": "light"
          }
        }
      ]
    },
    {
      "cell_type": "code",
      "source": [
        "def f(L, g):\n",
        "    return 2*math.pi*np.sqrt((L/100)/g)"
      ],
      "metadata": {
        "id": "By0bRmDlN5Ev"
      },
      "execution_count": 4,
      "outputs": []
    },
    {
      "cell_type": "markdown",
      "source": [
        "We use [scipy.optimize.curve_fit](https://docs.scipy.org/doc/scipy/reference/generated/scipy.optimize.curve_fit.html) to find parameters of the function to fit to data, along with the parameter's uncertainty."
      ],
      "metadata": {
        "id": "i6GcEXYTO7xy"
      }
    },
    {
      "cell_type": "code",
      "source": [
        "import scipy.optimize\n",
        "popt, pcov = scipy.optimize.curve_fit(f, lengths, periods, sigma=sd_periods)"
      ],
      "metadata": {
        "id": "Ff9KmPnZO8jJ"
      },
      "execution_count": 5,
      "outputs": []
    },
    {
      "cell_type": "code",
      "source": [
        "# popt contains the estimated parameters g  in the function f(L, g) above\n",
        "popt"
      ],
      "metadata": {
        "colab": {
          "base_uri": "https://localhost:8080/"
        },
        "id": "Tzf5nEOJPkr3",
        "outputId": "51cc4606-cc0b-469e-bef7-28227321e53c"
      },
      "execution_count": 6,
      "outputs": [
        {
          "output_type": "execute_result",
          "data": {
            "text/plain": [
              "array([10.05389487])"
            ]
          },
          "metadata": {},
          "execution_count": 6
        }
      ]
    },
    {
      "cell_type": "code",
      "source": [
        "# to get standard deviation of g\n",
        "np.sqrt(pcov)"
      ],
      "metadata": {
        "colab": {
          "base_uri": "https://localhost:8080/"
        },
        "id": "iGDBh7-0QYgB",
        "outputId": "3eafe0c4-6257-406f-bf33-f71d58a418f4"
      },
      "execution_count": 7,
      "outputs": [
        {
          "output_type": "execute_result",
          "data": {
            "text/plain": [
              "array([[0.0958045]])"
            ]
          },
          "metadata": {},
          "execution_count": 7
        }
      ]
    },
    {
      "cell_type": "markdown",
      "source": [
        "From the popt and pcov above, the estimate parameter g are:\n",
        "\n",
        "    g = 10.054 ± 0.096 kg"
      ],
      "metadata": {
        "id": "WohDZn3ZQKKU"
      }
    },
    {
      "cell_type": "markdown",
      "source": [
        "We can plot the fitted function and our data with [error bars](https://matplotlib.org/api/_as_gen/matplotlib.axes.Axes.errorbar.html) (uncertainty for each data point) like this:\n"
      ],
      "metadata": {
        "id": "XyfYdFypQvRE"
      }
    },
    {
      "cell_type": "code",
      "source": [
        "x = np.arange(0,410,10)\n",
        "plt.plot(x, f(x, *popt), color='lightseagreen')\n",
        "plt.errorbar(lengths, periods, yerr=sd_periods, fmt = '.', color='salmon')\n",
        "plt.xlabel(\"length L\")\n",
        "plt.ylabel(\"period T\")\n",
        "plt.show()"
      ],
      "metadata": {
        "colab": {
          "base_uri": "https://localhost:8080/",
          "height": 279
        },
        "id": "g-YrA0Y3QwNh",
        "outputId": "5b82580c-6127-47f8-af16-93456e2b5cba"
      },
      "execution_count": 8,
      "outputs": [
        {
          "output_type": "display_data",
          "data": {
            "text/plain": [
              "<Figure size 432x288 with 1 Axes>"
            ],
            "image/png": "[encoded data removed]"
          },
          "metadata": {
            "needs_background": "light"
          }
        }
      ]
    }
  ]
}