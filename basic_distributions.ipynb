{
  "cells": [
    {
      "cell_type": "markdown",
      "metadata": {
        "id": "view-in-github",
        "colab_type": "text"
      },
      "source": [
        "<a href=\"https://colab.research.google.com/github/Vanessa5331/distribution-calculation/blob/main/basic_distributions.ipynb\" target=\"_parent\"><img src=\"https://colab.research.google.com/assets/colab-badge.svg\" alt=\"Open In Colab\"/></a>"
      ]
    },
    {
      "cell_type": "code",
      "execution_count": 1,
      "id": "attended-chicago",
      "metadata": {
        "id": "attended-chicago"
      },
      "outputs": [],
      "source": [
        "import numpy as np\n",
        "import math\n"
      ]
    },
    {
      "cell_type": "markdown",
      "source": [
        "## Probability Distributions"
      ],
      "metadata": {
        "id": "Bskrw9m0lscg"
      },
      "id": "Bskrw9m0lscg"
    },
    {
      "cell_type": "code",
      "execution_count": 2,
      "id": "brown-average",
      "metadata": {
        "id": "brown-average"
      },
      "outputs": [],
      "source": [
        "def gen_uniform_dist(nsamples = 100):\n",
        "    return np.random.uniform(0,1,nsamples)\n",
        "\n",
        "def gen_normal_dist(nsamples = 100):\n",
        "    return np.random.normal(0,1,nsamples)\n",
        "\n",
        "def gen_expo_dist(nsamples = 100):\n",
        "    return np.random.exponential(1,nsamples)\n"
      ]
    },
    {
      "cell_type": "markdown",
      "id": "lined-discipline",
      "metadata": {
        "id": "lined-discipline"
      },
      "source": [
        "## 1.Uniform Distribution"
      ]
    },
    {
      "cell_type": "markdown",
      "id": "olive-feeding",
      "metadata": {
        "id": "olive-feeding"
      },
      "source": [
        "### Calculate Sample Mean, Standard Deviation, SEM"
      ]
    },
    {
      "cell_type": "code",
      "source": [
        "n = 3\n",
        "x = gen_uniform_dist(nsamples = n)\n",
        "x_bar = np.mean(x)\n",
        "s = np.std(x, ddof=1)\n",
        "SEM = s/math.sqrt(n)\n",
        "print(f\"sample mean = {x_bar}\")\n",
        "print(f\"sample standard deviation = {s}\")\n",
        "print(f\"standard error of the mean = {SEM}\")"
      ],
      "metadata": {
        "colab": {
          "base_uri": "https://localhost:8080/"
        },
        "id": "yOqMOeVCo_VP",
        "outputId": "fe57dbf1-9ca2-4bc8-8427-62dbc3defa28"
      },
      "id": "yOqMOeVCo_VP",
      "execution_count": 3,
      "outputs": [
        {
          "output_type": "stream",
          "name": "stdout",
          "text": [
            "sample mean = 0.15539219688680614\n",
            "sample standard deviation = 0.11805546035157653\n",
            "standard error of the mean = 0.0681593518132879\n"
          ]
        }
      ]
    },
    {
      "cell_type": "code",
      "source": [
        "n = 10\n",
        "x = gen_uniform_dist(nsamples = n)\n",
        "x_bar = np.mean(x)\n",
        "s = np.std(x, ddof=1)\n",
        "SEM = s/math.sqrt(n)\n",
        "print(f\"sample mean = {x_bar}\")\n",
        "print(f\"sample standard deviation = {s}\")\n",
        "print(f\"standard error of the mean = {SEM}\")"
      ],
      "metadata": {
        "colab": {
          "base_uri": "https://localhost:8080/"
        },
        "outputId": "78ea613e-245a-4342-d32e-e98f1f1ab904",
        "id": "IWbBujLOpwvx"
      },
      "execution_count": 4,
      "outputs": [
        {
          "output_type": "stream",
          "name": "stdout",
          "text": [
            "sample mean = 0.5159561424370385\n",
            "sample standard deviation = 0.28362523708220294\n",
            "standard error of the mean = 0.08969017510850105\n"
          ]
        }
      ],
      "id": "IWbBujLOpwvx"
    },
    {
      "cell_type": "code",
      "source": [
        "n = 30\n",
        "x = gen_uniform_dist(nsamples = n)\n",
        "x_bar = np.mean(x)\n",
        "s = np.std(x, ddof=1)\n",
        "SEM = s/math.sqrt(n)\n",
        "print(f\"sample mean = {x_bar}\")\n",
        "print(f\"sample standard deviation = {s}\")\n",
        "print(f\"standard error of the mean = {SEM}\")"
      ],
      "metadata": {
        "colab": {
          "base_uri": "https://localhost:8080/"
        },
        "outputId": "cb654172-a9eb-4bd8-d34e-de0a50f1d33e",
        "id": "mPqx1DIEpw3d"
      },
      "execution_count": 5,
      "outputs": [
        {
          "output_type": "stream",
          "name": "stdout",
          "text": [
            "sample mean = 0.5636874615161477\n",
            "sample standard deviation = 0.28028386331642174\n",
            "standard error of the mean = 0.051172598147699644\n"
          ]
        }
      ],
      "id": "mPqx1DIEpw3d"
    },
    {
      "cell_type": "code",
      "source": [
        "n = 100\n",
        "x = gen_uniform_dist(nsamples = n)\n",
        "x_bar = np.mean(x)\n",
        "s = np.std(x, ddof=1)\n",
        "SEM = s/math.sqrt(n)\n",
        "print(f\"sample mean = {x_bar}\")\n",
        "print(f\"sample standard deviation = {s}\")\n",
        "print(f\"standard error of the mean = {SEM}\")"
      ],
      "metadata": {
        "colab": {
          "base_uri": "https://localhost:8080/"
        },
        "outputId": "a7c70057-8d52-48e0-d90f-4f8e7970ffb1",
        "id": "qcUs_Vwlpw_m"
      },
      "execution_count": 6,
      "outputs": [
        {
          "output_type": "stream",
          "name": "stdout",
          "text": [
            "sample mean = 0.4947974415395667\n",
            "sample standard deviation = 0.27681466111161906\n",
            "standard error of the mean = 0.027681466111161908\n"
          ]
        }
      ],
      "id": "qcUs_Vwlpw_m"
    },
    {
      "cell_type": "code",
      "source": [
        "n = 1000\n",
        "x = gen_uniform_dist(nsamples = n)\n",
        "x_bar = np.mean(x)\n",
        "s = np.std(x, ddof=1)\n",
        "SEM = s/math.sqrt(n)\n",
        "print(f\"sample mean = {x_bar}\")\n",
        "print(f\"sample standard deviation = {s}\")\n",
        "print(f\"standard error of the mean = {SEM}\")"
      ],
      "metadata": {
        "colab": {
          "base_uri": "https://localhost:8080/"
        },
        "outputId": "d30d638b-4f8e-4e89-c793-83c78ae68f88",
        "id": "hFS1pC-zpxHa"
      },
      "execution_count": 7,
      "outputs": [
        {
          "output_type": "stream",
          "name": "stdout",
          "text": [
            "sample mean = 0.5000969661397354\n",
            "sample standard deviation = 0.28009094608426544\n",
            "standard error of the mean = 0.008857253416176986\n"
          ]
        }
      ],
      "id": "hFS1pC-zpxHa"
    },
    {
      "cell_type": "markdown",
      "source": [
        "### Compare with Actual Mean and Actual Standard Deviation"
      ],
      "metadata": {
        "id": "64aluvT2vvvw"
      },
      "id": "64aluvT2vvvw"
    },
    {
      "cell_type": "code",
      "source": [
        "a = 0\n",
        "b = 1\n",
        "actual_x_bar = (a+b)/2\n",
        "actual_s = math.sqrt((b-a)**2/12)\n",
        "print(f\"actual mean = {actual_x_bar}\")\n",
        "print(f\"actual standard deviation = {actual_s}\")"
      ],
      "metadata": {
        "colab": {
          "base_uri": "https://localhost:8080/"
        },
        "id": "SJa0EF_YuxjB",
        "outputId": "a596220a-4e4a-4d92-e761-b4b49ca0d96c"
      },
      "id": "SJa0EF_YuxjB",
      "execution_count": 8,
      "outputs": [
        {
          "output_type": "stream",
          "name": "stdout",
          "text": [
            "actual mean = 0.5\n",
            "actual standard deviation = 0.28867513459481287\n"
          ]
        }
      ]
    },
    {
      "cell_type": "markdown",
      "source": [
        "The sample mean is approaching 0.5 and the sample standard deviation is approaching 0.28 as the sample size is increasing, which are the values of the actual mean and the actual standard deviation."
      ],
      "metadata": {
        "id": "CqSScJeKxBhN"
      },
      "id": "CqSScJeKxBhN"
    },
    {
      "cell_type": "markdown",
      "metadata": {
        "id": "0E1qZX0Bs5o3"
      },
      "source": [
        "## 2.Normal Distribution"
      ],
      "id": "0E1qZX0Bs5o3"
    },
    {
      "cell_type": "markdown",
      "metadata": {
        "id": "tr45T1-fvi28"
      },
      "source": [
        "### Calculate Sample Mean, Standard Deviation, SEM"
      ],
      "id": "tr45T1-fvi28"
    },
    {
      "cell_type": "code",
      "source": [
        "n = 3\n",
        "x = gen_normal_dist(nsamples = n)\n",
        "x_bar = np.mean(x)\n",
        "s = np.std(x, ddof=1)\n",
        "SEM = s/math.sqrt(n)\n",
        "print(f\"sample mean = {x_bar}\")\n",
        "print(f\"sample standard deviation = {s}\")\n",
        "print(f\"standard error of the mean = {SEM}\")"
      ],
      "metadata": {
        "colab": {
          "base_uri": "https://localhost:8080/"
        },
        "id": "kmVJDUnBtCiA",
        "outputId": "cde89eab-0d3b-4a0f-a84c-7274950b198e"
      },
      "id": "kmVJDUnBtCiA",
      "execution_count": 9,
      "outputs": [
        {
          "output_type": "stream",
          "name": "stdout",
          "text": [
            "sample mean = 0.78414827422773\n",
            "sample standard deviation = 0.629849854339682\n",
            "standard error of the mean = 0.363643982952062\n"
          ]
        }
      ]
    },
    {
      "cell_type": "code",
      "source": [
        "n = 10\n",
        "x = gen_normal_dist(nsamples = n)\n",
        "x_bar = np.mean(x)\n",
        "s = np.std(x, ddof=1)\n",
        "SEM = s/math.sqrt(n)\n",
        "print(f\"sample mean = {x_bar}\")\n",
        "print(f\"sample standard deviation = {s}\")\n",
        "print(f\"standard error of the mean = {SEM}\")"
      ],
      "metadata": {
        "colab": {
          "base_uri": "https://localhost:8080/"
        },
        "id": "A5f1SFnVtKQQ",
        "outputId": "218eec4e-3ed9-4220-9c06-80dc9db1326a"
      },
      "execution_count": 10,
      "outputs": [
        {
          "output_type": "stream",
          "name": "stdout",
          "text": [
            "sample mean = -0.15244089274956296\n",
            "sample standard deviation = 0.9461356389199873\n",
            "standard error of the mean = 0.29919435944458117\n"
          ]
        }
      ],
      "id": "A5f1SFnVtKQQ"
    },
    {
      "cell_type": "code",
      "source": [
        "n = 30\n",
        "x = gen_normal_dist(nsamples = n)\n",
        "x_bar = np.mean(x)\n",
        "s = np.std(x, ddof=1)\n",
        "SEM = s/math.sqrt(n)\n",
        "print(f\"sample mean = {x_bar}\")\n",
        "print(f\"sample standard deviation = {s}\")\n",
        "print(f\"standard error of the mean = {SEM}\")"
      ],
      "metadata": {
        "colab": {
          "base_uri": "https://localhost:8080/"
        },
        "id": "D5x7aiF9tKaZ",
        "outputId": "8ca42cc0-d6b5-493b-a054-8e3c331236dc"
      },
      "execution_count": 11,
      "outputs": [
        {
          "output_type": "stream",
          "name": "stdout",
          "text": [
            "sample mean = 0.25516039898872106\n",
            "sample standard deviation = 0.8433668794080771\n",
            "standard error of the mean = 0.153977021368181\n"
          ]
        }
      ],
      "id": "D5x7aiF9tKaZ"
    },
    {
      "cell_type": "code",
      "source": [
        "n = 100\n",
        "x = gen_normal_dist(nsamples = n)\n",
        "x_bar = np.mean(x)\n",
        "s = np.std(x, ddof=1)\n",
        "SEM = s/math.sqrt(n)\n",
        "print(f\"sample mean = {x_bar}\")\n",
        "print(f\"sample standard deviation = {s}\")\n",
        "print(f\"standard error of the mean = {SEM}\")"
      ],
      "metadata": {
        "colab": {
          "base_uri": "https://localhost:8080/"
        },
        "id": "9AU6jnD1tKhM",
        "outputId": "ade9f4dc-dd11-48bd-d29f-8c78c4dbea3c"
      },
      "execution_count": 12,
      "outputs": [
        {
          "output_type": "stream",
          "name": "stdout",
          "text": [
            "sample mean = 0.24115651062398036\n",
            "sample standard deviation = 0.9052156533019298\n",
            "standard error of the mean = 0.09052156533019298\n"
          ]
        }
      ],
      "id": "9AU6jnD1tKhM"
    },
    {
      "cell_type": "code",
      "source": [
        "n = 1000\n",
        "x = gen_normal_dist(nsamples = n)\n",
        "x_bar = np.mean(x)\n",
        "s = np.std(x, ddof=1)\n",
        "SEM = s/math.sqrt(n)\n",
        "print(f\"sample mean = {x_bar}\")\n",
        "print(f\"sample standard deviation = {s}\")\n",
        "print(f\"standard error of the mean = {SEM}\")"
      ],
      "metadata": {
        "colab": {
          "base_uri": "https://localhost:8080/"
        },
        "id": "nSQBc1rutKos",
        "outputId": "0e826055-7af5-47c2-c796-190219802419"
      },
      "execution_count": 13,
      "outputs": [
        {
          "output_type": "stream",
          "name": "stdout",
          "text": [
            "sample mean = 0.038182526906457875\n",
            "sample standard deviation = 1.0201494498674122\n",
            "standard error of the mean = 0.0322599581534878\n"
          ]
        }
      ],
      "id": "nSQBc1rutKos"
    },
    {
      "cell_type": "markdown",
      "source": [
        "### Compare with Actual Mean and Actual Standard Deviation"
      ],
      "metadata": {
        "id": "Ie7YcLftww4g"
      },
      "id": "Ie7YcLftww4g"
    },
    {
      "cell_type": "markdown",
      "source": [
        "For a normal distribution, the actual mean is 0 and the standard deviation is 1. In the same manner, the sample mean is approaching to 0 and the sample standard deviation is approaching to 1 as the sample size is increasing."
      ],
      "metadata": {
        "id": "saAj9uq6wxgy"
      },
      "id": "saAj9uq6wxgy"
    },
    {
      "cell_type": "markdown",
      "source": [
        "## 3.Exponential Distribution"
      ],
      "metadata": {
        "id": "78J1ekGktPNv"
      },
      "id": "78J1ekGktPNv"
    },
    {
      "cell_type": "markdown",
      "metadata": {
        "id": "Ro_X8DZJvlUl"
      },
      "source": [
        "### Calculate Sample Mean, Standard Deviation, SEM"
      ],
      "id": "Ro_X8DZJvlUl"
    },
    {
      "cell_type": "code",
      "source": [
        "n = 3\n",
        "x = gen_expo_dist(nsamples = n)\n",
        "x_bar = np.mean(x)\n",
        "s = np.std(x, ddof=1)\n",
        "SEM = s/math.sqrt(n)\n",
        "print(f\"sample mean = {x_bar}\")\n",
        "print(f\"sample standard deviation = {s}\")\n",
        "print(f\"standard error of the mean = {SEM}\")"
      ],
      "metadata": {
        "colab": {
          "base_uri": "https://localhost:8080/"
        },
        "id": "-D4dPS0AtZvI",
        "outputId": "6da6a114-9a6b-42be-e8c7-00ebae0faf2e"
      },
      "execution_count": 14,
      "outputs": [
        {
          "output_type": "stream",
          "name": "stdout",
          "text": [
            "sample mean = 1.1703511028940696\n",
            "sample standard deviation = 0.5814356182956564\n",
            "standard error of the mean = 0.3356920107394337\n"
          ]
        }
      ],
      "id": "-D4dPS0AtZvI"
    },
    {
      "cell_type": "code",
      "source": [
        "n = 10\n",
        "x = gen_expo_dist(nsamples = n)\n",
        "x_bar = np.mean(x)\n",
        "s = np.std(x, ddof=1)\n",
        "SEM = s/math.sqrt(n)\n",
        "print(f\"sample mean = {x_bar}\")\n",
        "print(f\"sample standard deviation = {s}\")\n",
        "print(f\"standard error of the mean = {SEM}\")"
      ],
      "metadata": {
        "colab": {
          "base_uri": "https://localhost:8080/"
        },
        "id": "vOJ1NnMPtcGF",
        "outputId": "efd087d8-3892-44d5-9091-566197794860"
      },
      "execution_count": 15,
      "outputs": [
        {
          "output_type": "stream",
          "name": "stdout",
          "text": [
            "sample mean = 0.884376967301623\n",
            "sample standard deviation = 1.05972586320479\n",
            "standard error of the mean = 0.3351147423115159\n"
          ]
        }
      ],
      "id": "vOJ1NnMPtcGF"
    },
    {
      "cell_type": "code",
      "source": [
        "n = 30\n",
        "x = gen_expo_dist(nsamples = n)\n",
        "x_bar = np.mean(x)\n",
        "s = np.std(x, ddof=1)\n",
        "SEM = s/math.sqrt(n)\n",
        "print(f\"sample mean = {x_bar}\")\n",
        "print(f\"sample standard deviation = {s}\")\n",
        "print(f\"standard error of the mean = {SEM}\")"
      ],
      "metadata": {
        "colab": {
          "base_uri": "https://localhost:8080/"
        },
        "id": "CgFe0gnttcZO",
        "outputId": "0dcd00a3-be86-4996-90a1-4de259772404"
      },
      "execution_count": 16,
      "outputs": [
        {
          "output_type": "stream",
          "name": "stdout",
          "text": [
            "sample mean = 0.9258884361537777\n",
            "sample standard deviation = 0.7059163126265726\n",
            "standard error of the mean = 0.1288820960454809\n"
          ]
        }
      ],
      "id": "CgFe0gnttcZO"
    },
    {
      "cell_type": "code",
      "source": [
        "n = 100\n",
        "x = gen_expo_dist(nsamples = n)\n",
        "x_bar = np.mean(x)\n",
        "s = np.std(x, ddof=1)\n",
        "SEM = s/math.sqrt(n)\n",
        "print(f\"sample mean = {x_bar}\")\n",
        "print(f\"sample standard deviation = {s}\")\n",
        "print(f\"standard error of the mean = {SEM}\")"
      ],
      "metadata": {
        "colab": {
          "base_uri": "https://localhost:8080/"
        },
        "id": "m9b5c7KktchL",
        "outputId": "86bf5e33-1b47-4618-bbfd-179874062946"
      },
      "execution_count": 17,
      "outputs": [
        {
          "output_type": "stream",
          "name": "stdout",
          "text": [
            "sample mean = 1.0044131161955305\n",
            "sample standard deviation = 0.9988377164074022\n",
            "standard error of the mean = 0.09988377164074022\n"
          ]
        }
      ],
      "id": "m9b5c7KktchL"
    },
    {
      "cell_type": "code",
      "source": [
        "n = 1000\n",
        "x = gen_expo_dist(nsamples = n)\n",
        "x_bar = np.mean(x)\n",
        "s = np.std(x, ddof=1)\n",
        "SEM = s/math.sqrt(n)\n",
        "print(f\"sample mean = {x_bar}\")\n",
        "print(f\"sample standard deviation = {s}\")\n",
        "print(f\"standard error of the mean = {SEM}\")"
      ],
      "metadata": {
        "colab": {
          "base_uri": "https://localhost:8080/"
        },
        "id": "tjvmm5k7tcpg",
        "outputId": "5121d2a7-7a61-42bf-e4b9-e7204477f18e"
      },
      "execution_count": 18,
      "outputs": [
        {
          "output_type": "stream",
          "name": "stdout",
          "text": [
            "sample mean = 1.0316079620455376\n",
            "sample standard deviation = 1.0068892784847239\n",
            "standard error of the mean = 0.031840634716153005\n"
          ]
        }
      ],
      "id": "tjvmm5k7tcpg"
    },
    {
      "cell_type": "markdown",
      "source": [
        "### Compare with Actual Mean and Actual Standard Deviation"
      ],
      "metadata": {
        "id": "ONtJcGXHuZ-K"
      },
      "id": "ONtJcGXHuZ-K"
    },
    {
      "cell_type": "markdown",
      "source": [
        "The standard deviation of the exponential distribution is equal to the mean which has the value of 1/λ. In this case, λ = 1 so both the actual mean and the actual standard deviation are 1. Similarly, the sample mean and the sample standard deviation are both approaching to 1 as the sample size is increasing."
      ],
      "metadata": {
        "id": "1nqrlTmNy8xr"
      },
      "id": "1nqrlTmNy8xr"
    }
  ],
  "metadata": {
    "kernelspec": {
      "display_name": "Python 3",
      "language": "python",
      "name": "python3"
    },
    "language_info": {
      "codemirror_mode": {
        "name": "ipython",
        "version": 3
      },
      "file_extension": ".py",
      "mimetype": "text/x-python",
      "name": "python",
      "nbconvert_exporter": "python",
      "pygments_lexer": "ipython3",
      "version": "3.8.5"
    },
    "colab": {
      "name": "Homework 7",
      "provenance": [],
      "collapsed_sections": [],
      "include_colab_link": true
    }
  },
  "nbformat": 4,
  "nbformat_minor": 5
}